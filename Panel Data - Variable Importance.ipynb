{
 "cells": [
  {
   "cell_type": "markdown",
   "metadata": {
    "id": "2v552lBV_2sc"
   },
   "source": [
    "## Loading models trained for each year"
   ]
  },
  {
   "cell_type": "code",
   "execution_count": 3,
   "metadata": {},
   "outputs": [],
   "source": [
    "from sklearn.externals import joblib\n",
    "\n",
    "# year list \n",
    "year_list = [2011, 2012, 2013, 2014, 2015, 2016]\n",
    "\n",
    "# setting up an empty dictionary to deal with feature importance \n",
    "feature_imp_dict = {}\n",
    "\n",
    "for year in year_list:\n",
    "    file_name = str(year) + \"rf.pkl\"\n",
    "    # Loading model file\n",
    "    mod_file = joblib.load(file_name)\n",
    "    \n",
    "    # adding each year feature importance to the dictionary\n",
    "    if year not in feature_imp_dict:\n",
    "        feature_imp_dict[year] = sorted(zip(mod_file.feature_importances_, X)) # X here is the list of input features"
   ]
  },
  {
   "cell_type": "markdown",
   "metadata": {},
   "source": [
    "### Visualization Code"
   ]
  },
  {
   "cell_type": "code",
   "execution_count": 19,
   "metadata": {},
   "outputs": [
    {
     "data": {
      "application/vnd.plotly.v1+json": {
       "config": {
        "plotlyServerURL": "https://plot.ly"
       },
       "data": [
        {
         "orientation": "h",
         "type": "bar",
         "x": [
          0.02391314319480245,
          0.023963621408555413,
          0.025940732252246867,
          0.025960438802966144,
          0.03186475231754761,
          0.03188090410860761,
          0.03399030938982114,
          0.03587138893155285,
          0.03589687674051354,
          0.03784136198451159,
          0.03787660990219981,
          0.03854591447665384,
          0.03988752093834682,
          0.04190822688388437,
          0.05212563958781174,
          0.05585644393755205,
          0.06375684497309993,
          0.06743210240445117,
          0.07193234252273634,
          0.08581464258057492
         ],
         "y": [
          "PPENT",
          "SALE",
          "RECT",
          "CHE",
          "AP",
          "COGS",
          "CEQ",
          "IVAO",
          "DLTT",
          "DP",
          "INTAN",
          "CFO",
          "PPENT_D1",
          "XINT",
          "INVT",
          "NOPIO",
          "RECT_D1",
          "E",
          "TXT",
          "INVT_D1"
         ]
        }
       ],
       "frames": [
        {
         "data": [
          {
           "orientation": "h",
           "text": [
            "PPENT",
            "SALE",
            "RECT",
            "CHE",
            "AP",
            "COGS",
            "CEQ",
            "IVAO",
            "DLTT",
            "DP",
            "INTAN",
            "CFO",
            "PPENT_D1",
            "XINT",
            "INVT",
            "NOPIO",
            "RECT_D1",
            "E",
            "TXT",
            "INVT_D1"
           ],
           "textposition": "auto",
           "type": "bar",
           "x": [
            0.02391314319480245,
            0.023963621408555413,
            0.025940732252246867,
            0.025960438802966144,
            0.03186475231754761,
            0.03188090410860761,
            0.03399030938982114,
            0.03587138893155285,
            0.03589687674051354,
            0.03784136198451159,
            0.03787660990219981,
            0.03854591447665384,
            0.03988752093834682,
            0.04190822688388437,
            0.05212563958781174,
            0.05585644393755205,
            0.06375684497309993,
            0.06743210240445117,
            0.07193234252273634,
            0.08581464258057492
           ],
           "y": [
            "PPENT",
            "SALE",
            "RECT",
            "CHE",
            "AP",
            "COGS",
            "CEQ",
            "IVAO",
            "DLTT",
            "DP",
            "INTAN",
            "CFO",
            "PPENT_D1",
            "XINT",
            "INVT",
            "NOPIO",
            "RECT_D1",
            "E",
            "TXT",
            "INVT_D1"
           ]
          }
         ],
         "name": "2011"
        },
        {
         "data": [
          {
           "orientation": "h",
           "text": [
            "COGS_D1",
            "DLTT",
            "DLC",
            "IVAO",
            "RECT",
            "AP",
            "PPENT_D1",
            "NOPIO",
            "PPENT",
            "XINT",
            "INTAN",
            "CEQ",
            "DP",
            "RECT_D1",
            "E",
            "CHE",
            "INVT_D1",
            "INVT",
            "CFO",
            "TXT"
           ],
           "textposition": "auto",
           "type": "bar",
           "x": [
            0.023912551549569415,
            0.02790773899906665,
            0.027918574898995376,
            0.03184342813947633,
            0.03191503818295984,
            0.03585761770040996,
            0.03586385815838116,
            0.03792626170817447,
            0.037939901137797,
            0.03988376955795289,
            0.04180657861827694,
            0.043796927226157974,
            0.04380427252681941,
            0.047851113054664114,
            0.049799600065536714,
            0.051876790860621295,
            0.05385795060583083,
            0.05392018442304421,
            0.06479294993303493,
            0.07986569509146803
           ],
           "y": [
            "COGS_D1",
            "DLTT",
            "DLC",
            "IVAO",
            "RECT",
            "AP",
            "PPENT_D1",
            "NOPIO",
            "PPENT",
            "XINT",
            "INTAN",
            "CEQ",
            "DP",
            "RECT_D1",
            "E",
            "CHE",
            "INVT_D1",
            "INVT",
            "CFO",
            "TXT"
           ]
          }
         ],
         "name": "2012"
        },
        {
         "data": [
          {
           "orientation": "h",
           "text": [
            "PPENT",
            "DP_D1",
            "RECT_D1",
            "SALE",
            "DLC",
            "PPENT_D1",
            "XINT",
            "IVAO",
            "DP",
            "NOPIO",
            "AP",
            "CEQ",
            "INTAN",
            "COGS_D1",
            "CHE",
            "TXT",
            "INVT_D1",
            "CFO",
            "E",
            "INVT"
           ],
           "textposition": "auto",
           "type": "bar",
           "x": [
            0.027854448415330496,
            0.027906923701609954,
            0.027919525214855766,
            0.02792645587898746,
            0.0298739663056399,
            0.029876936063764997,
            0.03185577313107922,
            0.03387667255287642,
            0.0338858748105724,
            0.03781683060589103,
            0.03785791592306738,
            0.039912318874311625,
            0.041749639718525036,
            0.043870246422286575,
            0.043883742519459035,
            0.04995280209967722,
            0.053816103395358215,
            0.05692387362356314,
            0.057010251758567825,
            0.06901563194048366
           ],
           "y": [
            "PPENT",
            "DP_D1",
            "RECT_D1",
            "SALE",
            "DLC",
            "PPENT_D1",
            "XINT",
            "IVAO",
            "DP",
            "NOPIO",
            "AP",
            "CEQ",
            "INTAN",
            "COGS_D1",
            "CHE",
            "TXT",
            "INVT_D1",
            "CFO",
            "E",
            "INVT"
           ]
          }
         ],
         "name": "2013"
        },
        {
         "data": [
          {
           "orientation": "h",
           "text": [
            "IVAO",
            "RECT",
            "NOPIO",
            "INTAN",
            "PPENT",
            "COGS",
            "DLTT",
            "AT",
            "AP",
            "DLC",
            "INVT_D1",
            "TXT",
            "RECT_D1",
            "COGS_D1",
            "DP",
            "CHE",
            "CFO",
            "CEQ",
            "INVT",
            "E"
           ],
           "textposition": "auto",
           "type": "bar",
           "x": [
            0.023849396279730463,
            0.02387663909855386,
            0.025958066098082953,
            0.02783263429439992,
            0.029775501152521342,
            0.02983101764704246,
            0.029884479776735855,
            0.029915421775285174,
            0.03389038076805749,
            0.03584058040139752,
            0.03773820726339329,
            0.043968965980970075,
            0.04575918097927779,
            0.045837238115268776,
            0.04780860315887107,
            0.05190117177109779,
            0.06023064386111247,
            0.06167800165754516,
            0.06702308113398957,
            0.08139846344602242
           ],
           "y": [
            "IVAO",
            "RECT",
            "NOPIO",
            "INTAN",
            "PPENT",
            "COGS",
            "DLTT",
            "AT",
            "AP",
            "DLC",
            "INVT_D1",
            "TXT",
            "RECT_D1",
            "COGS_D1",
            "DP",
            "CHE",
            "CFO",
            "CEQ",
            "INVT",
            "E"
           ]
          }
         ],
         "name": "2014"
        },
        {
         "data": [
          {
           "orientation": "h",
           "text": [
            "CEQ_D1",
            "RECT_D1",
            "PPENT",
            "DP",
            "NOPIO",
            "XINT",
            "DLC",
            "INVT_D1",
            "LT",
            "RECT",
            "COGS",
            "SALE",
            "AP",
            "AT",
            "INVT",
            "TXT",
            "CHE",
            "CEQ",
            "CFO",
            "E"
           ],
           "textposition": "auto",
           "type": "bar",
           "x": [
            0.007945387548649041,
            0.007960525765087363,
            0.00802765353935295,
            0.008031812179305993,
            0.008082645284923607,
            0.013925284948269046,
            0.01590548534581313,
            0.017858117988140895,
            0.023834920437684207,
            0.02580402502551672,
            0.029773139495202203,
            0.035626456990277944,
            0.03756989803191018,
            0.0436458929306838,
            0.04752820530663721,
            0.051233214280543754,
            0.059477527186649184,
            0.12987864227526036,
            0.15743810891334925,
            0.23702063275393886
           ],
           "y": [
            "CEQ_D1",
            "RECT_D1",
            "PPENT",
            "DP",
            "NOPIO",
            "XINT",
            "DLC",
            "INVT_D1",
            "LT",
            "RECT",
            "COGS",
            "SALE",
            "AP",
            "AT",
            "INVT",
            "TXT",
            "CHE",
            "CEQ",
            "CFO",
            "E"
           ]
          }
         ],
         "name": "2015"
        },
        {
         "data": [
          {
           "orientation": "h",
           "text": [
            "INTAN",
            "LT",
            "CHE_D1",
            "INVT_D1",
            "NOPIO",
            "RECT_D1",
            "RECT",
            "COGS",
            "COGS_D1",
            "DP",
            "AP",
            "SALE",
            "CHE",
            "CFO",
            "CEQ",
            "PPENT",
            "TXT",
            "AT",
            "INVT",
            "E"
           ],
           "textposition": "auto",
           "type": "bar",
           "x": [
            0.012024649864976004,
            0.012029246760721092,
            0.017855582942236194,
            0.019926772971665473,
            0.020282265756144884,
            0.025961137081272456,
            0.027869480524187088,
            0.03143190566360816,
            0.03564024497384306,
            0.03762883205870342,
            0.039535670504411695,
            0.041387783179560794,
            0.04150171587198053,
            0.04221248932414504,
            0.04327699683608073,
            0.04560157934643176,
            0.046199225845055925,
            0.07486448370419554,
            0.10027874637172081,
            0.18801500463659185
           ],
           "y": [
            "INTAN",
            "LT",
            "CHE_D1",
            "INVT_D1",
            "NOPIO",
            "RECT_D1",
            "RECT",
            "COGS",
            "COGS_D1",
            "DP",
            "AP",
            "SALE",
            "CHE",
            "CFO",
            "CEQ",
            "PPENT",
            "TXT",
            "AT",
            "INVT",
            "E"
           ]
          }
         ],
         "name": "2016"
        }
       ],
       "layout": {
        "hovermode": "closest",
        "sliders": [
         {
          "active": 0,
          "currentvalue": {
           "font": {
            "size": 20
           },
           "prefix": "Year:",
           "visible": true,
           "xanchor": "right"
          },
          "len": 0.9,
          "pad": {
           "b": 10,
           "t": 50
          },
          "steps": [
           {
            "args": [
             [
              2011
             ],
             {
              "frame": {
               "duration": 300,
               "redraw": false
              },
              "mode": "immediate",
              "transition": {
               "duration": 300
              }
             }
            ],
            "label": "2011",
            "method": "animate"
           },
           {
            "args": [
             [
              2012
             ],
             {
              "frame": {
               "duration": 300,
               "redraw": false
              },
              "mode": "immediate",
              "transition": {
               "duration": 300
              }
             }
            ],
            "label": "2012",
            "method": "animate"
           },
           {
            "args": [
             [
              2013
             ],
             {
              "frame": {
               "duration": 300,
               "redraw": false
              },
              "mode": "immediate",
              "transition": {
               "duration": 300
              }
             }
            ],
            "label": "2013",
            "method": "animate"
           },
           {
            "args": [
             [
              2014
             ],
             {
              "frame": {
               "duration": 300,
               "redraw": false
              },
              "mode": "immediate",
              "transition": {
               "duration": 300
              }
             }
            ],
            "label": "2014",
            "method": "animate"
           },
           {
            "args": [
             [
              2015
             ],
             {
              "frame": {
               "duration": 300,
               "redraw": false
              },
              "mode": "immediate",
              "transition": {
               "duration": 300
              }
             }
            ],
            "label": "2015",
            "method": "animate"
           },
           {
            "args": [
             [
              2016
             ],
             {
              "frame": {
               "duration": 300,
               "redraw": false
              },
              "mode": "immediate",
              "transition": {
               "duration": 300
              }
             }
            ],
            "label": "2016",
            "method": "animate"
           }
          ],
          "transition": {
           "duration": 300,
           "easing": "cubic-in-out"
          },
          "x": 0.1,
          "xanchor": "left",
          "y": 0,
          "yanchor": "top"
         }
        ],
        "template": {
         "data": {
          "bar": [
           {
            "error_x": {
             "color": "#2a3f5f"
            },
            "error_y": {
             "color": "#2a3f5f"
            },
            "marker": {
             "line": {
              "color": "#E5ECF6",
              "width": 0.5
             }
            },
            "type": "bar"
           }
          ],
          "barpolar": [
           {
            "marker": {
             "line": {
              "color": "#E5ECF6",
              "width": 0.5
             }
            },
            "type": "barpolar"
           }
          ],
          "carpet": [
           {
            "aaxis": {
             "endlinecolor": "#2a3f5f",
             "gridcolor": "white",
             "linecolor": "white",
             "minorgridcolor": "white",
             "startlinecolor": "#2a3f5f"
            },
            "baxis": {
             "endlinecolor": "#2a3f5f",
             "gridcolor": "white",
             "linecolor": "white",
             "minorgridcolor": "white",
             "startlinecolor": "#2a3f5f"
            },
            "type": "carpet"
           }
          ],
          "choropleth": [
           {
            "colorbar": {
             "outlinewidth": 0,
             "ticks": ""
            },
            "type": "choropleth"
           }
          ],
          "contour": [
           {
            "colorbar": {
             "outlinewidth": 0,
             "ticks": ""
            },
            "colorscale": [
             [
              0,
              "#0d0887"
             ],
             [
              0.1111111111111111,
              "#46039f"
             ],
             [
              0.2222222222222222,
              "#7201a8"
             ],
             [
              0.3333333333333333,
              "#9c179e"
             ],
             [
              0.4444444444444444,
              "#bd3786"
             ],
             [
              0.5555555555555556,
              "#d8576b"
             ],
             [
              0.6666666666666666,
              "#ed7953"
             ],
             [
              0.7777777777777778,
              "#fb9f3a"
             ],
             [
              0.8888888888888888,
              "#fdca26"
             ],
             [
              1,
              "#f0f921"
             ]
            ],
            "type": "contour"
           }
          ],
          "contourcarpet": [
           {
            "colorbar": {
             "outlinewidth": 0,
             "ticks": ""
            },
            "type": "contourcarpet"
           }
          ],
          "heatmap": [
           {
            "colorbar": {
             "outlinewidth": 0,
             "ticks": ""
            },
            "colorscale": [
             [
              0,
              "#0d0887"
             ],
             [
              0.1111111111111111,
              "#46039f"
             ],
             [
              0.2222222222222222,
              "#7201a8"
             ],
             [
              0.3333333333333333,
              "#9c179e"
             ],
             [
              0.4444444444444444,
              "#bd3786"
             ],
             [
              0.5555555555555556,
              "#d8576b"
             ],
             [
              0.6666666666666666,
              "#ed7953"
             ],
             [
              0.7777777777777778,
              "#fb9f3a"
             ],
             [
              0.8888888888888888,
              "#fdca26"
             ],
             [
              1,
              "#f0f921"
             ]
            ],
            "type": "heatmap"
           }
          ],
          "heatmapgl": [
           {
            "colorbar": {
             "outlinewidth": 0,
             "ticks": ""
            },
            "colorscale": [
             [
              0,
              "#0d0887"
             ],
             [
              0.1111111111111111,
              "#46039f"
             ],
             [
              0.2222222222222222,
              "#7201a8"
             ],
             [
              0.3333333333333333,
              "#9c179e"
             ],
             [
              0.4444444444444444,
              "#bd3786"
             ],
             [
              0.5555555555555556,
              "#d8576b"
             ],
             [
              0.6666666666666666,
              "#ed7953"
             ],
             [
              0.7777777777777778,
              "#fb9f3a"
             ],
             [
              0.8888888888888888,
              "#fdca26"
             ],
             [
              1,
              "#f0f921"
             ]
            ],
            "type": "heatmapgl"
           }
          ],
          "histogram": [
           {
            "marker": {
             "colorbar": {
              "outlinewidth": 0,
              "ticks": ""
             }
            },
            "type": "histogram"
           }
          ],
          "histogram2d": [
           {
            "colorbar": {
             "outlinewidth": 0,
             "ticks": ""
            },
            "colorscale": [
             [
              0,
              "#0d0887"
             ],
             [
              0.1111111111111111,
              "#46039f"
             ],
             [
              0.2222222222222222,
              "#7201a8"
             ],
             [
              0.3333333333333333,
              "#9c179e"
             ],
             [
              0.4444444444444444,
              "#bd3786"
             ],
             [
              0.5555555555555556,
              "#d8576b"
             ],
             [
              0.6666666666666666,
              "#ed7953"
             ],
             [
              0.7777777777777778,
              "#fb9f3a"
             ],
             [
              0.8888888888888888,
              "#fdca26"
             ],
             [
              1,
              "#f0f921"
             ]
            ],
            "type": "histogram2d"
           }
          ],
          "histogram2dcontour": [
           {
            "colorbar": {
             "outlinewidth": 0,
             "ticks": ""
            },
            "colorscale": [
             [
              0,
              "#0d0887"
             ],
             [
              0.1111111111111111,
              "#46039f"
             ],
             [
              0.2222222222222222,
              "#7201a8"
             ],
             [
              0.3333333333333333,
              "#9c179e"
             ],
             [
              0.4444444444444444,
              "#bd3786"
             ],
             [
              0.5555555555555556,
              "#d8576b"
             ],
             [
              0.6666666666666666,
              "#ed7953"
             ],
             [
              0.7777777777777778,
              "#fb9f3a"
             ],
             [
              0.8888888888888888,
              "#fdca26"
             ],
             [
              1,
              "#f0f921"
             ]
            ],
            "type": "histogram2dcontour"
           }
          ],
          "mesh3d": [
           {
            "colorbar": {
             "outlinewidth": 0,
             "ticks": ""
            },
            "type": "mesh3d"
           }
          ],
          "parcoords": [
           {
            "line": {
             "colorbar": {
              "outlinewidth": 0,
              "ticks": ""
             }
            },
            "type": "parcoords"
           }
          ],
          "pie": [
           {
            "automargin": true,
            "type": "pie"
           }
          ],
          "scatter": [
           {
            "marker": {
             "colorbar": {
              "outlinewidth": 0,
              "ticks": ""
             }
            },
            "type": "scatter"
           }
          ],
          "scatter3d": [
           {
            "line": {
             "colorbar": {
              "outlinewidth": 0,
              "ticks": ""
             }
            },
            "marker": {
             "colorbar": {
              "outlinewidth": 0,
              "ticks": ""
             }
            },
            "type": "scatter3d"
           }
          ],
          "scattercarpet": [
           {
            "marker": {
             "colorbar": {
              "outlinewidth": 0,
              "ticks": ""
             }
            },
            "type": "scattercarpet"
           }
          ],
          "scattergeo": [
           {
            "marker": {
             "colorbar": {
              "outlinewidth": 0,
              "ticks": ""
             }
            },
            "type": "scattergeo"
           }
          ],
          "scattergl": [
           {
            "marker": {
             "colorbar": {
              "outlinewidth": 0,
              "ticks": ""
             }
            },
            "type": "scattergl"
           }
          ],
          "scattermapbox": [
           {
            "marker": {
             "colorbar": {
              "outlinewidth": 0,
              "ticks": ""
             }
            },
            "type": "scattermapbox"
           }
          ],
          "scatterpolar": [
           {
            "marker": {
             "colorbar": {
              "outlinewidth": 0,
              "ticks": ""
             }
            },
            "type": "scatterpolar"
           }
          ],
          "scatterpolargl": [
           {
            "marker": {
             "colorbar": {
              "outlinewidth": 0,
              "ticks": ""
             }
            },
            "type": "scatterpolargl"
           }
          ],
          "scatterternary": [
           {
            "marker": {
             "colorbar": {
              "outlinewidth": 0,
              "ticks": ""
             }
            },
            "type": "scatterternary"
           }
          ],
          "surface": [
           {
            "colorbar": {
             "outlinewidth": 0,
             "ticks": ""
            },
            "colorscale": [
             [
              0,
              "#0d0887"
             ],
             [
              0.1111111111111111,
              "#46039f"
             ],
             [
              0.2222222222222222,
              "#7201a8"
             ],
             [
              0.3333333333333333,
              "#9c179e"
             ],
             [
              0.4444444444444444,
              "#bd3786"
             ],
             [
              0.5555555555555556,
              "#d8576b"
             ],
             [
              0.6666666666666666,
              "#ed7953"
             ],
             [
              0.7777777777777778,
              "#fb9f3a"
             ],
             [
              0.8888888888888888,
              "#fdca26"
             ],
             [
              1,
              "#f0f921"
             ]
            ],
            "type": "surface"
           }
          ],
          "table": [
           {
            "cells": {
             "fill": {
              "color": "#EBF0F8"
             },
             "line": {
              "color": "white"
             }
            },
            "header": {
             "fill": {
              "color": "#C8D4E3"
             },
             "line": {
              "color": "white"
             }
            },
            "type": "table"
           }
          ]
         },
         "layout": {
          "annotationdefaults": {
           "arrowcolor": "#2a3f5f",
           "arrowhead": 0,
           "arrowwidth": 1
          },
          "coloraxis": {
           "colorbar": {
            "outlinewidth": 0,
            "ticks": ""
           }
          },
          "colorscale": {
           "diverging": [
            [
             0,
             "#8e0152"
            ],
            [
             0.1,
             "#c51b7d"
            ],
            [
             0.2,
             "#de77ae"
            ],
            [
             0.3,
             "#f1b6da"
            ],
            [
             0.4,
             "#fde0ef"
            ],
            [
             0.5,
             "#f7f7f7"
            ],
            [
             0.6,
             "#e6f5d0"
            ],
            [
             0.7,
             "#b8e186"
            ],
            [
             0.8,
             "#7fbc41"
            ],
            [
             0.9,
             "#4d9221"
            ],
            [
             1,
             "#276419"
            ]
           ],
           "sequential": [
            [
             0,
             "#0d0887"
            ],
            [
             0.1111111111111111,
             "#46039f"
            ],
            [
             0.2222222222222222,
             "#7201a8"
            ],
            [
             0.3333333333333333,
             "#9c179e"
            ],
            [
             0.4444444444444444,
             "#bd3786"
            ],
            [
             0.5555555555555556,
             "#d8576b"
            ],
            [
             0.6666666666666666,
             "#ed7953"
            ],
            [
             0.7777777777777778,
             "#fb9f3a"
            ],
            [
             0.8888888888888888,
             "#fdca26"
            ],
            [
             1,
             "#f0f921"
            ]
           ],
           "sequentialminus": [
            [
             0,
             "#0d0887"
            ],
            [
             0.1111111111111111,
             "#46039f"
            ],
            [
             0.2222222222222222,
             "#7201a8"
            ],
            [
             0.3333333333333333,
             "#9c179e"
            ],
            [
             0.4444444444444444,
             "#bd3786"
            ],
            [
             0.5555555555555556,
             "#d8576b"
            ],
            [
             0.6666666666666666,
             "#ed7953"
            ],
            [
             0.7777777777777778,
             "#fb9f3a"
            ],
            [
             0.8888888888888888,
             "#fdca26"
            ],
            [
             1,
             "#f0f921"
            ]
           ]
          },
          "colorway": [
           "#636efa",
           "#EF553B",
           "#00cc96",
           "#ab63fa",
           "#FFA15A",
           "#19d3f3",
           "#FF6692",
           "#B6E880",
           "#FF97FF",
           "#FECB52"
          ],
          "font": {
           "color": "#2a3f5f"
          },
          "geo": {
           "bgcolor": "white",
           "lakecolor": "white",
           "landcolor": "#E5ECF6",
           "showlakes": true,
           "showland": true,
           "subunitcolor": "white"
          },
          "hoverlabel": {
           "align": "left"
          },
          "hovermode": "closest",
          "mapbox": {
           "style": "light"
          },
          "paper_bgcolor": "white",
          "plot_bgcolor": "#E5ECF6",
          "polar": {
           "angularaxis": {
            "gridcolor": "white",
            "linecolor": "white",
            "ticks": ""
           },
           "bgcolor": "#E5ECF6",
           "radialaxis": {
            "gridcolor": "white",
            "linecolor": "white",
            "ticks": ""
           }
          },
          "scene": {
           "xaxis": {
            "backgroundcolor": "#E5ECF6",
            "gridcolor": "white",
            "gridwidth": 2,
            "linecolor": "white",
            "showbackground": true,
            "ticks": "",
            "zerolinecolor": "white"
           },
           "yaxis": {
            "backgroundcolor": "#E5ECF6",
            "gridcolor": "white",
            "gridwidth": 2,
            "linecolor": "white",
            "showbackground": true,
            "ticks": "",
            "zerolinecolor": "white"
           },
           "zaxis": {
            "backgroundcolor": "#E5ECF6",
            "gridcolor": "white",
            "gridwidth": 2,
            "linecolor": "white",
            "showbackground": true,
            "ticks": "",
            "zerolinecolor": "white"
           }
          },
          "shapedefaults": {
           "line": {
            "color": "#2a3f5f"
           }
          },
          "ternary": {
           "aaxis": {
            "gridcolor": "white",
            "linecolor": "white",
            "ticks": ""
           },
           "baxis": {
            "gridcolor": "white",
            "linecolor": "white",
            "ticks": ""
           },
           "bgcolor": "#E5ECF6",
           "caxis": {
            "gridcolor": "white",
            "linecolor": "white",
            "ticks": ""
           }
          },
          "title": {
           "x": 0.05
          },
          "xaxis": {
           "automargin": true,
           "gridcolor": "white",
           "linecolor": "white",
           "ticks": "",
           "title": {
            "standoff": 15
           },
           "zerolinecolor": "white",
           "zerolinewidth": 2
          },
          "yaxis": {
           "automargin": true,
           "gridcolor": "white",
           "linecolor": "white",
           "ticks": "",
           "title": {
            "standoff": 15
           },
           "zerolinecolor": "white",
           "zerolinewidth": 2
          }
         }
        },
        "updatemenus": [
         {
          "buttons": [
           {
            "args": [
             null,
             {
              "frame": {
               "duration": 500,
               "redraw": false
              },
              "fromcurrent": true,
              "transition": {
               "duration": 300,
               "easing": "quadratic-in-out"
              }
             }
            ],
            "label": "Play",
            "method": "animate"
           },
           {
            "args": [
             [
              null
             ],
             {
              "frame": {
               "duration": 0,
               "redraw": false
              },
              "mode": "immediate",
              "transition": {
               "duration": 0
              }
             }
            ],
            "label": "Pause",
            "method": "animate"
           }
          ],
          "direction": "left",
          "pad": {
           "r": 10,
           "t": 87
          },
          "showactive": false,
          "type": "buttons",
          "x": 0.1,
          "xanchor": "right",
          "y": 0,
          "yanchor": "top"
         }
        ],
        "xaxis": {
         "range": [
          0.001,
          0.5
         ],
         "title": {
          "text": "Variable Importance"
         }
        },
        "yaxis": {
         "showticklabels": false,
         "title": {
          "text": "Variables"
         },
         "visible": false
        }
       }
      },
      "text/html": [
       "<div>                            <div id=\"0809c850-8d2d-49aa-bf4b-57f55b4ca690\" class=\"plotly-graph-div\" style=\"height:525px; width:100%;\"></div>            <script type=\"text/javascript\">                require([\"plotly\"], function(Plotly) {                    window.PLOTLYENV=window.PLOTLYENV || {};                                    if (document.getElementById(\"0809c850-8d2d-49aa-bf4b-57f55b4ca690\")) {                    Plotly.newPlot(                        \"0809c850-8d2d-49aa-bf4b-57f55b4ca690\",                        [{\"orientation\": \"h\", \"type\": \"bar\", \"x\": [0.02391314319480245, 0.023963621408555413, 0.025940732252246867, 0.025960438802966144, 0.03186475231754761, 0.03188090410860761, 0.03399030938982114, 0.03587138893155285, 0.03589687674051354, 0.03784136198451159, 0.03787660990219981, 0.03854591447665384, 0.03988752093834682, 0.04190822688388437, 0.05212563958781174, 0.05585644393755205, 0.06375684497309993, 0.06743210240445117, 0.07193234252273634, 0.08581464258057492], \"y\": [\"PPENT\", \"SALE\", \"RECT\", \"CHE\", \"AP\", \"COGS\", \"CEQ\", \"IVAO\", \"DLTT\", \"DP\", \"INTAN\", \"CFO\", \"PPENT_D1\", \"XINT\", \"INVT\", \"NOPIO\", \"RECT_D1\", \"E\", \"TXT\", \"INVT_D1\"]}],                        {\"hovermode\": \"closest\", \"sliders\": [{\"active\": 0, \"currentvalue\": {\"font\": {\"size\": 20}, \"prefix\": \"Year:\", \"visible\": true, \"xanchor\": \"right\"}, \"len\": 0.9, \"pad\": {\"b\": 10, \"t\": 50}, \"steps\": [{\"args\": [[2011], {\"frame\": {\"duration\": 300, \"redraw\": false}, \"mode\": \"immediate\", \"transition\": {\"duration\": 300}}], \"label\": \"2011\", \"method\": \"animate\"}, {\"args\": [[2012], {\"frame\": {\"duration\": 300, \"redraw\": false}, \"mode\": \"immediate\", \"transition\": {\"duration\": 300}}], \"label\": \"2012\", \"method\": \"animate\"}, {\"args\": [[2013], {\"frame\": {\"duration\": 300, \"redraw\": false}, \"mode\": \"immediate\", \"transition\": {\"duration\": 300}}], \"label\": \"2013\", \"method\": \"animate\"}, {\"args\": [[2014], {\"frame\": {\"duration\": 300, \"redraw\": false}, \"mode\": \"immediate\", \"transition\": {\"duration\": 300}}], \"label\": \"2014\", \"method\": \"animate\"}, {\"args\": [[2015], {\"frame\": {\"duration\": 300, \"redraw\": false}, \"mode\": \"immediate\", \"transition\": {\"duration\": 300}}], \"label\": \"2015\", \"method\": \"animate\"}, {\"args\": [[2016], {\"frame\": {\"duration\": 300, \"redraw\": false}, \"mode\": \"immediate\", \"transition\": {\"duration\": 300}}], \"label\": \"2016\", \"method\": \"animate\"}], \"transition\": {\"duration\": 300, \"easing\": \"cubic-in-out\"}, \"x\": 0.1, \"xanchor\": \"left\", \"y\": 0, \"yanchor\": \"top\"}], \"template\": {\"data\": {\"bar\": [{\"error_x\": {\"color\": \"#2a3f5f\"}, \"error_y\": {\"color\": \"#2a3f5f\"}, \"marker\": {\"line\": {\"color\": \"#E5ECF6\", \"width\": 0.5}}, \"type\": \"bar\"}], \"barpolar\": [{\"marker\": {\"line\": {\"color\": \"#E5ECF6\", \"width\": 0.5}}, \"type\": \"barpolar\"}], \"carpet\": [{\"aaxis\": {\"endlinecolor\": \"#2a3f5f\", \"gridcolor\": \"white\", \"linecolor\": \"white\", \"minorgridcolor\": \"white\", \"startlinecolor\": \"#2a3f5f\"}, \"baxis\": {\"endlinecolor\": \"#2a3f5f\", \"gridcolor\": \"white\", \"linecolor\": \"white\", \"minorgridcolor\": \"white\", \"startlinecolor\": \"#2a3f5f\"}, \"type\": \"carpet\"}], \"choropleth\": [{\"colorbar\": {\"outlinewidth\": 0, \"ticks\": \"\"}, \"type\": \"choropleth\"}], \"contour\": [{\"colorbar\": {\"outlinewidth\": 0, \"ticks\": \"\"}, \"colorscale\": [[0.0, \"#0d0887\"], [0.1111111111111111, \"#46039f\"], [0.2222222222222222, \"#7201a8\"], [0.3333333333333333, \"#9c179e\"], [0.4444444444444444, \"#bd3786\"], [0.5555555555555556, \"#d8576b\"], [0.6666666666666666, \"#ed7953\"], [0.7777777777777778, \"#fb9f3a\"], [0.8888888888888888, \"#fdca26\"], [1.0, \"#f0f921\"]], \"type\": \"contour\"}], \"contourcarpet\": [{\"colorbar\": {\"outlinewidth\": 0, \"ticks\": \"\"}, \"type\": \"contourcarpet\"}], \"heatmap\": [{\"colorbar\": {\"outlinewidth\": 0, \"ticks\": \"\"}, \"colorscale\": [[0.0, \"#0d0887\"], [0.1111111111111111, \"#46039f\"], [0.2222222222222222, \"#7201a8\"], [0.3333333333333333, \"#9c179e\"], [0.4444444444444444, \"#bd3786\"], [0.5555555555555556, \"#d8576b\"], [0.6666666666666666, \"#ed7953\"], [0.7777777777777778, \"#fb9f3a\"], [0.8888888888888888, \"#fdca26\"], [1.0, \"#f0f921\"]], \"type\": \"heatmap\"}], \"heatmapgl\": [{\"colorbar\": {\"outlinewidth\": 0, \"ticks\": \"\"}, \"colorscale\": [[0.0, \"#0d0887\"], [0.1111111111111111, \"#46039f\"], [0.2222222222222222, \"#7201a8\"], [0.3333333333333333, \"#9c179e\"], [0.4444444444444444, \"#bd3786\"], [0.5555555555555556, \"#d8576b\"], [0.6666666666666666, \"#ed7953\"], [0.7777777777777778, \"#fb9f3a\"], [0.8888888888888888, \"#fdca26\"], [1.0, \"#f0f921\"]], \"type\": \"heatmapgl\"}], \"histogram\": [{\"marker\": {\"colorbar\": {\"outlinewidth\": 0, \"ticks\": \"\"}}, \"type\": \"histogram\"}], \"histogram2d\": [{\"colorbar\": {\"outlinewidth\": 0, \"ticks\": \"\"}, \"colorscale\": [[0.0, \"#0d0887\"], [0.1111111111111111, \"#46039f\"], [0.2222222222222222, \"#7201a8\"], [0.3333333333333333, \"#9c179e\"], [0.4444444444444444, \"#bd3786\"], [0.5555555555555556, \"#d8576b\"], [0.6666666666666666, \"#ed7953\"], [0.7777777777777778, \"#fb9f3a\"], [0.8888888888888888, \"#fdca26\"], [1.0, \"#f0f921\"]], \"type\": \"histogram2d\"}], \"histogram2dcontour\": [{\"colorbar\": {\"outlinewidth\": 0, \"ticks\": \"\"}, \"colorscale\": [[0.0, \"#0d0887\"], [0.1111111111111111, \"#46039f\"], [0.2222222222222222, \"#7201a8\"], [0.3333333333333333, \"#9c179e\"], [0.4444444444444444, \"#bd3786\"], [0.5555555555555556, \"#d8576b\"], [0.6666666666666666, \"#ed7953\"], [0.7777777777777778, \"#fb9f3a\"], [0.8888888888888888, \"#fdca26\"], [1.0, \"#f0f921\"]], \"type\": \"histogram2dcontour\"}], \"mesh3d\": [{\"colorbar\": {\"outlinewidth\": 0, \"ticks\": \"\"}, \"type\": \"mesh3d\"}], \"parcoords\": [{\"line\": {\"colorbar\": {\"outlinewidth\": 0, \"ticks\": \"\"}}, \"type\": \"parcoords\"}], \"pie\": [{\"automargin\": true, \"type\": \"pie\"}], \"scatter\": [{\"marker\": {\"colorbar\": {\"outlinewidth\": 0, \"ticks\": \"\"}}, \"type\": \"scatter\"}], \"scatter3d\": [{\"line\": {\"colorbar\": {\"outlinewidth\": 0, \"ticks\": \"\"}}, \"marker\": {\"colorbar\": {\"outlinewidth\": 0, \"ticks\": \"\"}}, \"type\": \"scatter3d\"}], \"scattercarpet\": [{\"marker\": {\"colorbar\": {\"outlinewidth\": 0, \"ticks\": \"\"}}, \"type\": \"scattercarpet\"}], \"scattergeo\": [{\"marker\": {\"colorbar\": {\"outlinewidth\": 0, \"ticks\": \"\"}}, \"type\": \"scattergeo\"}], \"scattergl\": [{\"marker\": {\"colorbar\": {\"outlinewidth\": 0, \"ticks\": \"\"}}, \"type\": \"scattergl\"}], \"scattermapbox\": [{\"marker\": {\"colorbar\": {\"outlinewidth\": 0, \"ticks\": \"\"}}, \"type\": \"scattermapbox\"}], \"scatterpolar\": [{\"marker\": {\"colorbar\": {\"outlinewidth\": 0, \"ticks\": \"\"}}, \"type\": \"scatterpolar\"}], \"scatterpolargl\": [{\"marker\": {\"colorbar\": {\"outlinewidth\": 0, \"ticks\": \"\"}}, \"type\": \"scatterpolargl\"}], \"scatterternary\": [{\"marker\": {\"colorbar\": {\"outlinewidth\": 0, \"ticks\": \"\"}}, \"type\": \"scatterternary\"}], \"surface\": [{\"colorbar\": {\"outlinewidth\": 0, \"ticks\": \"\"}, \"colorscale\": [[0.0, \"#0d0887\"], [0.1111111111111111, \"#46039f\"], [0.2222222222222222, \"#7201a8\"], [0.3333333333333333, \"#9c179e\"], [0.4444444444444444, \"#bd3786\"], [0.5555555555555556, \"#d8576b\"], [0.6666666666666666, \"#ed7953\"], [0.7777777777777778, \"#fb9f3a\"], [0.8888888888888888, \"#fdca26\"], [1.0, \"#f0f921\"]], \"type\": \"surface\"}], \"table\": [{\"cells\": {\"fill\": {\"color\": \"#EBF0F8\"}, \"line\": {\"color\": \"white\"}}, \"header\": {\"fill\": {\"color\": \"#C8D4E3\"}, \"line\": {\"color\": \"white\"}}, \"type\": \"table\"}]}, \"layout\": {\"annotationdefaults\": {\"arrowcolor\": \"#2a3f5f\", \"arrowhead\": 0, \"arrowwidth\": 1}, \"coloraxis\": {\"colorbar\": {\"outlinewidth\": 0, \"ticks\": \"\"}}, \"colorscale\": {\"diverging\": [[0, \"#8e0152\"], [0.1, \"#c51b7d\"], [0.2, \"#de77ae\"], [0.3, \"#f1b6da\"], [0.4, \"#fde0ef\"], [0.5, \"#f7f7f7\"], [0.6, \"#e6f5d0\"], [0.7, \"#b8e186\"], [0.8, \"#7fbc41\"], [0.9, \"#4d9221\"], [1, \"#276419\"]], \"sequential\": [[0.0, \"#0d0887\"], [0.1111111111111111, \"#46039f\"], [0.2222222222222222, \"#7201a8\"], [0.3333333333333333, \"#9c179e\"], [0.4444444444444444, \"#bd3786\"], [0.5555555555555556, \"#d8576b\"], [0.6666666666666666, \"#ed7953\"], [0.7777777777777778, \"#fb9f3a\"], [0.8888888888888888, \"#fdca26\"], [1.0, \"#f0f921\"]], \"sequentialminus\": [[0.0, \"#0d0887\"], [0.1111111111111111, \"#46039f\"], [0.2222222222222222, \"#7201a8\"], [0.3333333333333333, \"#9c179e\"], [0.4444444444444444, \"#bd3786\"], [0.5555555555555556, \"#d8576b\"], [0.6666666666666666, \"#ed7953\"], [0.7777777777777778, \"#fb9f3a\"], [0.8888888888888888, \"#fdca26\"], [1.0, \"#f0f921\"]]}, \"colorway\": [\"#636efa\", \"#EF553B\", \"#00cc96\", \"#ab63fa\", \"#FFA15A\", \"#19d3f3\", \"#FF6692\", \"#B6E880\", \"#FF97FF\", \"#FECB52\"], \"font\": {\"color\": \"#2a3f5f\"}, \"geo\": {\"bgcolor\": \"white\", \"lakecolor\": \"white\", \"landcolor\": \"#E5ECF6\", \"showlakes\": true, \"showland\": true, \"subunitcolor\": \"white\"}, \"hoverlabel\": {\"align\": \"left\"}, \"hovermode\": \"closest\", \"mapbox\": {\"style\": \"light\"}, \"paper_bgcolor\": \"white\", \"plot_bgcolor\": \"#E5ECF6\", \"polar\": {\"angularaxis\": {\"gridcolor\": \"white\", \"linecolor\": \"white\", \"ticks\": \"\"}, \"bgcolor\": \"#E5ECF6\", \"radialaxis\": {\"gridcolor\": \"white\", \"linecolor\": \"white\", \"ticks\": \"\"}}, \"scene\": {\"xaxis\": {\"backgroundcolor\": \"#E5ECF6\", \"gridcolor\": \"white\", \"gridwidth\": 2, \"linecolor\": \"white\", \"showbackground\": true, \"ticks\": \"\", \"zerolinecolor\": \"white\"}, \"yaxis\": {\"backgroundcolor\": \"#E5ECF6\", \"gridcolor\": \"white\", \"gridwidth\": 2, \"linecolor\": \"white\", \"showbackground\": true, \"ticks\": \"\", \"zerolinecolor\": \"white\"}, \"zaxis\": {\"backgroundcolor\": \"#E5ECF6\", \"gridcolor\": \"white\", \"gridwidth\": 2, \"linecolor\": \"white\", \"showbackground\": true, \"ticks\": \"\", \"zerolinecolor\": \"white\"}}, \"shapedefaults\": {\"line\": {\"color\": \"#2a3f5f\"}}, \"ternary\": {\"aaxis\": {\"gridcolor\": \"white\", \"linecolor\": \"white\", \"ticks\": \"\"}, \"baxis\": {\"gridcolor\": \"white\", \"linecolor\": \"white\", \"ticks\": \"\"}, \"bgcolor\": \"#E5ECF6\", \"caxis\": {\"gridcolor\": \"white\", \"linecolor\": \"white\", \"ticks\": \"\"}}, \"title\": {\"x\": 0.05}, \"xaxis\": {\"automargin\": true, \"gridcolor\": \"white\", \"linecolor\": \"white\", \"ticks\": \"\", \"title\": {\"standoff\": 15}, \"zerolinecolor\": \"white\", \"zerolinewidth\": 2}, \"yaxis\": {\"automargin\": true, \"gridcolor\": \"white\", \"linecolor\": \"white\", \"ticks\": \"\", \"title\": {\"standoff\": 15}, \"zerolinecolor\": \"white\", \"zerolinewidth\": 2}}}, \"updatemenus\": [{\"buttons\": [{\"args\": [null, {\"frame\": {\"duration\": 500, \"redraw\": false}, \"fromcurrent\": true, \"transition\": {\"duration\": 300, \"easing\": \"quadratic-in-out\"}}], \"label\": \"Play\", \"method\": \"animate\"}, {\"args\": [[null], {\"frame\": {\"duration\": 0, \"redraw\": false}, \"mode\": \"immediate\", \"transition\": {\"duration\": 0}}], \"label\": \"Pause\", \"method\": \"animate\"}], \"direction\": \"left\", \"pad\": {\"r\": 10, \"t\": 87}, \"showactive\": false, \"type\": \"buttons\", \"x\": 0.1, \"xanchor\": \"right\", \"y\": 0, \"yanchor\": \"top\"}], \"xaxis\": {\"range\": [0.001, 0.5], \"title\": {\"text\": \"Variable Importance\"}}, \"yaxis\": {\"showticklabels\": false, \"title\": {\"text\": \"Variables\"}, \"visible\": false}},                        {\"responsive\": true}                    ).then(function(){\n",
       "                            Plotly.addFrames('0809c850-8d2d-49aa-bf4b-57f55b4ca690', [{\"data\": [{\"orientation\": \"h\", \"text\": [\"PPENT\", \"SALE\", \"RECT\", \"CHE\", \"AP\", \"COGS\", \"CEQ\", \"IVAO\", \"DLTT\", \"DP\", \"INTAN\", \"CFO\", \"PPENT_D1\", \"XINT\", \"INVT\", \"NOPIO\", \"RECT_D1\", \"E\", \"TXT\", \"INVT_D1\"], \"textposition\": \"auto\", \"x\": [0.02391314319480245, 0.023963621408555413, 0.025940732252246867, 0.025960438802966144, 0.03186475231754761, 0.03188090410860761, 0.03399030938982114, 0.03587138893155285, 0.03589687674051354, 0.03784136198451159, 0.03787660990219981, 0.03854591447665384, 0.03988752093834682, 0.04190822688388437, 0.05212563958781174, 0.05585644393755205, 0.06375684497309993, 0.06743210240445117, 0.07193234252273634, 0.08581464258057492], \"y\": [\"PPENT\", \"SALE\", \"RECT\", \"CHE\", \"AP\", \"COGS\", \"CEQ\", \"IVAO\", \"DLTT\", \"DP\", \"INTAN\", \"CFO\", \"PPENT_D1\", \"XINT\", \"INVT\", \"NOPIO\", \"RECT_D1\", \"E\", \"TXT\", \"INVT_D1\"], \"type\": \"bar\"}], \"name\": \"2011\"}, {\"data\": [{\"orientation\": \"h\", \"text\": [\"COGS_D1\", \"DLTT\", \"DLC\", \"IVAO\", \"RECT\", \"AP\", \"PPENT_D1\", \"NOPIO\", \"PPENT\", \"XINT\", \"INTAN\", \"CEQ\", \"DP\", \"RECT_D1\", \"E\", \"CHE\", \"INVT_D1\", \"INVT\", \"CFO\", \"TXT\"], \"textposition\": \"auto\", \"x\": [0.023912551549569415, 0.02790773899906665, 0.027918574898995376, 0.03184342813947633, 0.03191503818295984, 0.03585761770040996, 0.03586385815838116, 0.03792626170817447, 0.037939901137797, 0.03988376955795289, 0.04180657861827694, 0.043796927226157974, 0.04380427252681941, 0.047851113054664114, 0.049799600065536714, 0.051876790860621295, 0.05385795060583083, 0.05392018442304421, 0.06479294993303493, 0.07986569509146803], \"y\": [\"COGS_D1\", \"DLTT\", \"DLC\", \"IVAO\", \"RECT\", \"AP\", \"PPENT_D1\", \"NOPIO\", \"PPENT\", \"XINT\", \"INTAN\", \"CEQ\", \"DP\", \"RECT_D1\", \"E\", \"CHE\", \"INVT_D1\", \"INVT\", \"CFO\", \"TXT\"], \"type\": \"bar\"}], \"name\": \"2012\"}, {\"data\": [{\"orientation\": \"h\", \"text\": [\"PPENT\", \"DP_D1\", \"RECT_D1\", \"SALE\", \"DLC\", \"PPENT_D1\", \"XINT\", \"IVAO\", \"DP\", \"NOPIO\", \"AP\", \"CEQ\", \"INTAN\", \"COGS_D1\", \"CHE\", \"TXT\", \"INVT_D1\", \"CFO\", \"E\", \"INVT\"], \"textposition\": \"auto\", \"x\": [0.027854448415330496, 0.027906923701609954, 0.027919525214855766, 0.02792645587898746, 0.0298739663056399, 0.029876936063764997, 0.03185577313107922, 0.03387667255287642, 0.0338858748105724, 0.03781683060589103, 0.03785791592306738, 0.039912318874311625, 0.041749639718525036, 0.043870246422286575, 0.043883742519459035, 0.04995280209967722, 0.053816103395358215, 0.05692387362356314, 0.057010251758567825, 0.06901563194048366], \"y\": [\"PPENT\", \"DP_D1\", \"RECT_D1\", \"SALE\", \"DLC\", \"PPENT_D1\", \"XINT\", \"IVAO\", \"DP\", \"NOPIO\", \"AP\", \"CEQ\", \"INTAN\", \"COGS_D1\", \"CHE\", \"TXT\", \"INVT_D1\", \"CFO\", \"E\", \"INVT\"], \"type\": \"bar\"}], \"name\": \"2013\"}, {\"data\": [{\"orientation\": \"h\", \"text\": [\"IVAO\", \"RECT\", \"NOPIO\", \"INTAN\", \"PPENT\", \"COGS\", \"DLTT\", \"AT\", \"AP\", \"DLC\", \"INVT_D1\", \"TXT\", \"RECT_D1\", \"COGS_D1\", \"DP\", \"CHE\", \"CFO\", \"CEQ\", \"INVT\", \"E\"], \"textposition\": \"auto\", \"x\": [0.023849396279730463, 0.02387663909855386, 0.025958066098082953, 0.02783263429439992, 0.029775501152521342, 0.02983101764704246, 0.029884479776735855, 0.029915421775285174, 0.03389038076805749, 0.03584058040139752, 0.03773820726339329, 0.043968965980970075, 0.04575918097927779, 0.045837238115268776, 0.04780860315887107, 0.05190117177109779, 0.06023064386111247, 0.06167800165754516, 0.06702308113398957, 0.08139846344602242], \"y\": [\"IVAO\", \"RECT\", \"NOPIO\", \"INTAN\", \"PPENT\", \"COGS\", \"DLTT\", \"AT\", \"AP\", \"DLC\", \"INVT_D1\", \"TXT\", \"RECT_D1\", \"COGS_D1\", \"DP\", \"CHE\", \"CFO\", \"CEQ\", \"INVT\", \"E\"], \"type\": \"bar\"}], \"name\": \"2014\"}, {\"data\": [{\"orientation\": \"h\", \"text\": [\"CEQ_D1\", \"RECT_D1\", \"PPENT\", \"DP\", \"NOPIO\", \"XINT\", \"DLC\", \"INVT_D1\", \"LT\", \"RECT\", \"COGS\", \"SALE\", \"AP\", \"AT\", \"INVT\", \"TXT\", \"CHE\", \"CEQ\", \"CFO\", \"E\"], \"textposition\": \"auto\", \"x\": [0.007945387548649041, 0.007960525765087363, 0.00802765353935295, 0.008031812179305993, 0.008082645284923607, 0.013925284948269046, 0.01590548534581313, 0.017858117988140895, 0.023834920437684207, 0.02580402502551672, 0.029773139495202203, 0.035626456990277944, 0.03756989803191018, 0.0436458929306838, 0.04752820530663721, 0.051233214280543754, 0.059477527186649184, 0.12987864227526036, 0.15743810891334925, 0.23702063275393886], \"y\": [\"CEQ_D1\", \"RECT_D1\", \"PPENT\", \"DP\", \"NOPIO\", \"XINT\", \"DLC\", \"INVT_D1\", \"LT\", \"RECT\", \"COGS\", \"SALE\", \"AP\", \"AT\", \"INVT\", \"TXT\", \"CHE\", \"CEQ\", \"CFO\", \"E\"], \"type\": \"bar\"}], \"name\": \"2015\"}, {\"data\": [{\"orientation\": \"h\", \"text\": [\"INTAN\", \"LT\", \"CHE_D1\", \"INVT_D1\", \"NOPIO\", \"RECT_D1\", \"RECT\", \"COGS\", \"COGS_D1\", \"DP\", \"AP\", \"SALE\", \"CHE\", \"CFO\", \"CEQ\", \"PPENT\", \"TXT\", \"AT\", \"INVT\", \"E\"], \"textposition\": \"auto\", \"x\": [0.012024649864976004, 0.012029246760721092, 0.017855582942236194, 0.019926772971665473, 0.020282265756144884, 0.025961137081272456, 0.027869480524187088, 0.03143190566360816, 0.03564024497384306, 0.03762883205870342, 0.039535670504411695, 0.041387783179560794, 0.04150171587198053, 0.04221248932414504, 0.04327699683608073, 0.04560157934643176, 0.046199225845055925, 0.07486448370419554, 0.10027874637172081, 0.18801500463659185], \"y\": [\"INTAN\", \"LT\", \"CHE_D1\", \"INVT_D1\", \"NOPIO\", \"RECT_D1\", \"RECT\", \"COGS\", \"COGS_D1\", \"DP\", \"AP\", \"SALE\", \"CHE\", \"CFO\", \"CEQ\", \"PPENT\", \"TXT\", \"AT\", \"INVT\", \"E\"], \"type\": \"bar\"}], \"name\": \"2016\"}]);\n",
       "                        }).then(function(){\n",
       "                            \n",
       "var gd = document.getElementById('0809c850-8d2d-49aa-bf4b-57f55b4ca690');\n",
       "var x = new MutationObserver(function (mutations, observer) {{\n",
       "        var display = window.getComputedStyle(gd).display;\n",
       "        if (!display || display === 'none') {{\n",
       "            console.log([gd, 'removed!']);\n",
       "            Plotly.purge(gd);\n",
       "            observer.disconnect();\n",
       "        }}\n",
       "}});\n",
       "\n",
       "// Listen for the removal of the full notebook cells\n",
       "var notebookContainer = gd.closest('#notebook-container');\n",
       "if (notebookContainer) {{\n",
       "    x.observe(notebookContainer, {childList: true});\n",
       "}}\n",
       "\n",
       "// Listen for the clearing of the current output cell\n",
       "var outputEl = gd.closest('.output');\n",
       "if (outputEl) {{\n",
       "    x.observe(outputEl, {childList: true});\n",
       "}}\n",
       "\n",
       "                        })                };                });            </script>        </div>"
      ]
     },
     "metadata": {},
     "output_type": "display_data"
    }
   ],
   "source": [
    "import pandas as pd\n",
    "\n",
    "# plotly imports\n",
    "import plotly.graph_objects as go\n",
    "\n",
    "# Converting the dictionary to a data frame\n",
    "emp_df = pd. DataFrame()\n",
    "for year in year_list:\n",
    "    df = pd.DataFrame(feature_imp_dict[year], columns = ['feature_importance', 'feature'])\n",
    "    df['year'] = year\n",
    "    emp_df = pd.concat([emp_df, df])\n",
    "\n",
    "dataset = emp_df.copy()\n",
    "\n",
    "# defining the figure dictionary\n",
    "fig_dict = {\n",
    "    \"data\": [],\n",
    "    \"layout\": {},\n",
    "    \"frames\": []\n",
    "}\n",
    "\n",
    "# setting the range and title of x axis and y axis\n",
    "fig_dict[\"layout\"][\"xaxis\"] = {\"range\": [0.001, 0.5], \"title\": \"Variable Importance\"}\n",
    "fig_dict[\"layout\"][\"yaxis\"] = {\"title\": \"Variables\"}\n",
    "fig_dict[\"layout\"][\"hovermode\"] = \"closest\"\n",
    "\n",
    "\n",
    "# defining the buttons on the visualization\n",
    "fig_dict[\"layout\"][\"updatemenus\"] = [\n",
    "    {\n",
    "        \"buttons\": [\n",
    "            {\n",
    "                \"args\": [None, {\"frame\": {\"duration\": 500, \"redraw\": False},\n",
    "                                \"fromcurrent\": True, \"transition\": {\"duration\": 300,\n",
    "                                                                    \"easing\": \"quadratic-in-out\"}}],\n",
    "                \"label\": \"Play\",\n",
    "                \"method\": \"animate\"\n",
    "            },\n",
    "            {\n",
    "                \"args\": [[None], {\"frame\": {\"duration\": 0, \"redraw\": False},\n",
    "                                  \"mode\": \"immediate\",\n",
    "                                  \"transition\": {\"duration\": 0}}],\n",
    "                \"label\": \"Pause\",\n",
    "                \"method\": \"animate\"\n",
    "            }\n",
    "        ],\n",
    "        \"direction\": \"left\",\n",
    "        \"pad\": {\"r\": 10, \"t\": 87},\n",
    "        \"showactive\": False,\n",
    "        \"type\": \"buttons\",\n",
    "        \"x\": 0.1,\n",
    "        \"xanchor\": \"right\",\n",
    "        \"y\": 0,\n",
    "        \"yanchor\": \"top\"\n",
    "    }\n",
    "]\n",
    "\n",
    "# defining the year slider\n",
    "sliders_dict = {\n",
    "    \"active\": 0,\n",
    "    \"yanchor\": \"top\",\n",
    "    \"xanchor\": \"left\",\n",
    "    \"currentvalue\": {\n",
    "        \"font\": {\"size\": 20},\n",
    "        \"prefix\": \"Year:\",\n",
    "        \"visible\": True,\n",
    "        \"xanchor\": \"right\"\n",
    "    },\n",
    "    \"transition\": {\"duration\": 300, \"easing\": \"cubic-in-out\"},\n",
    "    \"pad\": {\"b\": 10, \"t\": 50},\n",
    "    \"len\": 0.9,\n",
    "    \"x\": 0.1,\n",
    "    \"y\": 0,\n",
    "    \"steps\": []\n",
    "}\n",
    "\n",
    "\n",
    "\n",
    "# defining the initial frame of the visualization\n",
    "year = 2011\n",
    "\n",
    "# selecting only top 20 features (This can be parameterized)\n",
    "dataset_by_year = dataset[dataset[\"year\"] == year].tail(20)\n",
    "\n",
    "data_dict = go.Bar(\n",
    "            x=list(dataset_by_year['feature_importance']),\n",
    "            y=list(dataset_by_year['feature']),\n",
    "            orientation='h')\n",
    "\n",
    "fig_dict[\"data\"].append(data_dict)\n",
    "\n",
    "\n",
    "\n",
    "# # Making different frames of the visualization\n",
    "for year in year_list:\n",
    "    frame = {\"data\": [], \"name\": str(year)}\n",
    "    dataset_by_year = dataset[dataset[\"year\"] == year].tail(20)\n",
    "    data_dict = go.Bar(\n",
    "            x=list(dataset_by_year['feature_importance']),\n",
    "            y=list(dataset_by_year['feature']),\n",
    "            text=list(dataset_by_year['feature']),\n",
    "            textposition='auto',\n",
    "            orientation='h')\n",
    "    frame[\"data\"].append(data_dict)\n",
    "    \n",
    "\n",
    "    fig_dict[\"frames\"].append(frame)\n",
    "    slider_step = {\"args\": [\n",
    "        [year],\n",
    "        {\"frame\": {\"duration\": 300, \"redraw\": False},\n",
    "         \"mode\": \"immediate\",\n",
    "         \"transition\": {\"duration\": 300}}\n",
    "    ],\n",
    "        \"label\": year,\n",
    "        \"method\": \"animate\"}\n",
    "    sliders_dict[\"steps\"].append(slider_step)\n",
    "\n",
    "fig_dict[\"layout\"][\"sliders\"] = [sliders_dict]\n",
    "fig = go.Figure(fig_dict)\n",
    "\n",
    "# Hiding y_axes lables as they are not dynamic\n",
    "fig.update_yaxes(visible=False, showticklabels=False)\n",
    "fig.show()"
   ]
  }
 ],
 "metadata": {
  "colab": {
   "authorship_tag": "ABX9TyM56SUCsftHCsgBhcCdhdc7",
   "collapsed_sections": [],
   "mount_file_id": "1LsfYtYDlMl6Hzr18nghD_em5R4kgEFE9",
   "name": "Copy of CaoandYoung1.ipynb",
   "provenance": [
    {
     "file_id": "1LsfYtYDlMl6Hzr18nghD_em5R4kgEFE9",
     "timestamp": 1626918904592
    }
   ]
  },
  "kernelspec": {
   "display_name": "Python 3",
   "language": "python",
   "name": "python3"
  },
  "language_info": {
   "codemirror_mode": {
    "name": "ipython",
    "version": 3
   },
   "file_extension": ".py",
   "mimetype": "text/x-python",
   "name": "python",
   "nbconvert_exporter": "python",
   "pygments_lexer": "ipython3",
   "version": "3.7.6"
  }
 },
 "nbformat": 4,
 "nbformat_minor": 1
}
